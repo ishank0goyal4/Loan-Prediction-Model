{
  "nbformat": 4,
  "nbformat_minor": 0,
  "metadata": {
    "colab": {
      "name": "Loan_prediction_final.ipynb",
      "provenance": [],
      "collapsed_sections": [
        "0Kyr1kMdYk6e",
        "eZA3V82tZG_S",
        "9645aJhcFVi0",
        "cwUomA-lRP17"
      ],
      "authorship_tag": "ABX9TyNXkE/fZEgxyoiveK7n8oNM",
      "include_colab_link": true
    },
    "kernelspec": {
      "name": "python3",
      "display_name": "Python 3"
    }
  },
  "cells": [
    {
      "cell_type": "markdown",
      "metadata": {
        "id": "view-in-github",
        "colab_type": "text"
      },
      "source": [
        "<a href=\"https://colab.research.google.com/github/ishank0goyal4/Loan-Prediction-Model/blob/main/Loan_prediction_final.ipynb\" target=\"_parent\"><img src=\"https://colab.research.google.com/assets/colab-badge.svg\" alt=\"Open In Colab\"/></a>"
      ]
    },
    {
      "cell_type": "markdown",
      "metadata": {
        "id": "0Kyr1kMdYk6e"
      },
      "source": [
        "# Data preprocessing"
      ]
    },
    {
      "cell_type": "code",
      "metadata": {
        "id": "Pbg9F1FzYsKA"
      },
      "source": [
        "import matplotlib.pyplot as plt\n",
        "import numpy as np\n",
        "import pandas as pd"
      ],
      "execution_count": null,
      "outputs": []
    },
    {
      "cell_type": "code",
      "metadata": {
        "id": "gUcHaCZgYwqR",
        "colab": {
          "base_uri": "https://localhost:8080/"
        },
        "outputId": "24a2ec6a-474e-487f-ecc9-e25593c9935c"
      },
      "source": [
        "dataset = pd.read_csv('train_ctrUa4K (1).csv')\n",
        "testset = pd.read_csv('test_lAUu6dG (1).csv')\n",
        "X_train = dataset.iloc[: , 1:-1].values\n",
        "y_train = dataset.iloc[: , -1].values\n",
        "X_test = testset.iloc[: , 1:].values\n",
        "id =testset.iloc[: , 0].values\n",
        "print(pd.DataFrame(X_train))\n",
        "print(pd.DataFrame(X_test)) \n",
        "print(pd.DataFrame(id)) "
      ],
      "execution_count": null,
      "outputs": [
        {
          "output_type": "stream",
          "text": [
            "          0    1    2             3    4     5     6    7    8    9         10\n",
            "0      Male   No    1      Graduate   No  5849     0  NaN  360    1      Urban\n",
            "1       NaN  NaN    1           NaN   No   NaN  1508  NaN  360  NaN      Rural\n",
            "2      Male  Yes  NaN      Graduate  NaN  3000   NaN   66  NaN    1        NaN\n",
            "3      Male  Yes    0  Not Graduate   No  2583  2358  120  360    1      Urban\n",
            "4      Male   No    0      Graduate   No  6000     0  141  360    1      Urban\n",
            "..      ...  ...  ...           ...  ...   ...   ...  ...  ...  ...        ...\n",
            "609  Female   No    0      Graduate   No  2900     0   71  360    1      Rural\n",
            "610    Male  Yes   3+      Graduate   No  4106     0   40  180    1      Rural\n",
            "611    Male  Yes    1      Graduate   No  8072   240  253  360    1      Urban\n",
            "612    Male  Yes    2      Graduate   No  7583     0  187  360    1      Urban\n",
            "613  Female   No    0      Graduate  Yes  4583     0  133  360    0  Semiurban\n",
            "\n",
            "[614 rows x 11 columns]\n",
            "        0    1    2             3    4     5     6    7    8    9         10\n",
            "0     NaN  NaN    0           NaN   No   NaN     0  NaN  360  NaN      Urban\n",
            "1    Male  Yes  NaN      Graduate  NaN  3076   NaN  126  NaN    1        NaN\n",
            "2    Male  Yes    2      Graduate   No  5000  1800  208  360    1      Urban\n",
            "3    Male  Yes    2      Graduate   No  2340  2546  100  360  NaN      Urban\n",
            "4    Male   No    0  Not Graduate   No  3276     0   78  360    1      Urban\n",
            "..    ...  ...  ...           ...  ...   ...   ...  ...  ...  ...        ...\n",
            "362  Male  Yes   3+  Not Graduate  Yes  4009  1777  113  360    1      Urban\n",
            "363  Male  Yes    0      Graduate   No  4158   709  115  360    1      Urban\n",
            "364  Male   No    0      Graduate   No  3250  1993  126  360  NaN  Semiurban\n",
            "365  Male  Yes    0      Graduate   No  5000  2393  158  360    1      Rural\n",
            "366  Male   No    0      Graduate  Yes  9200     0   98  180    1      Rural\n",
            "\n",
            "[367 rows x 11 columns]\n",
            "            0\n",
            "0    LP001015\n",
            "1    LP001022\n",
            "2    LP001031\n",
            "3    LP001035\n",
            "4    LP001051\n",
            "..        ...\n",
            "362  LP002971\n",
            "363  LP002975\n",
            "364  LP002980\n",
            "365  LP002986\n",
            "366  LP002989\n",
            "\n",
            "[367 rows x 1 columns]\n"
          ],
          "name": "stdout"
        }
      ]
    },
    {
      "cell_type": "markdown",
      "metadata": {
        "id": "eZA3V82tZG_S"
      },
      "source": [
        "# Missing Data"
      ]
    },
    {
      "cell_type": "code",
      "metadata": {
        "id": "Btd6HaRRZOHX"
      },
      "source": [
        "from sklearn.impute import SimpleImputer\n",
        "imp_train = SimpleImputer(missing_values=np.nan,strategy='most_frequent' )\n",
        "imp_train.fit(X_train[:, :5])\n",
        "X_train[:, :5] = imp_train.transform(X_train[:, :5])\n"
      ],
      "execution_count": null,
      "outputs": []
    },
    {
      "cell_type": "code",
      "metadata": {
        "id": "5EJwicNc5Tvo"
      },
      "source": [
        "imp_train_1 = SimpleImputer(missing_values=np.nan,strategy='mean' )\n",
        "imp_train_1.fit(X_train[: , 5:9])\n",
        "X_train[:, 5:9] = imp_train_1.transform(X_train[: , 5:9])\n"
      ],
      "execution_count": null,
      "outputs": []
    },
    {
      "cell_type": "code",
      "metadata": {
        "id": "rIJjk8rx5yDk",
        "colab": {
          "base_uri": "https://localhost:8080/"
        },
        "outputId": "85714ccc-2fec-4c09-a0c3-918292ad8cce"
      },
      "source": [
        "imp_train_2 = SimpleImputer(missing_values=np.nan,strategy='most_frequent' )\n",
        "imp_train_2.fit(X_train[: , 8:])\n",
        "X_train[:, 8:] = imp_train_2.transform(X_train[: , 8:])\n",
        "print(pd.DataFrame(X_train))\n"
      ],
      "execution_count": null,
      "outputs": [
        {
          "output_type": "stream",
          "text": [
            "         0    1   2             3    4   ...       6        7       8  9          10\n",
            "0      Male   No   1      Graduate   No  ...        0  146.443     360  1      Urban\n",
            "1      Male  Yes   1      Graduate   No  ...     1508  146.443     360  1      Rural\n",
            "2      Male  Yes   0      Graduate   No  ...  1623.89       66  341.97  1  Semiurban\n",
            "3      Male  Yes   0  Not Graduate   No  ...     2358      120     360  1      Urban\n",
            "4      Male   No   0      Graduate   No  ...        0      141     360  1      Urban\n",
            "..      ...  ...  ..           ...  ...  ...      ...      ...     ... ..        ...\n",
            "609  Female   No   0      Graduate   No  ...        0       71     360  1      Rural\n",
            "610    Male  Yes  3+      Graduate   No  ...        0       40     180  1      Rural\n",
            "611    Male  Yes   1      Graduate   No  ...      240      253     360  1      Urban\n",
            "612    Male  Yes   2      Graduate   No  ...        0      187     360  1      Urban\n",
            "613  Female   No   0      Graduate  Yes  ...        0      133     360  0  Semiurban\n",
            "\n",
            "[614 rows x 11 columns]\n"
          ],
          "name": "stdout"
        }
      ]
    },
    {
      "cell_type": "code",
      "metadata": {
        "id": "I0R2t1DsexdW"
      },
      "source": [
        "imp_test = SimpleImputer(missing_values=np.nan,strategy='most_frequent')\n",
        "imp_test.fit(X_test[:, :5])\n",
        "X_test[:, :5]= imp_test.transform(X_test[:, :5])\n"
      ],
      "execution_count": null,
      "outputs": []
    },
    {
      "cell_type": "code",
      "metadata": {
        "id": "E6-AzY0WtQmU"
      },
      "source": [
        "imp_test_1 = SimpleImputer(missing_values=np.nan,strategy='mean' )\n",
        "imp_test_1.fit(X_test[: , 5:9])\n",
        "X_test[:, 5:9] = imp_test_1.transform(X_test[: , 5:9])"
      ],
      "execution_count": null,
      "outputs": []
    },
    {
      "cell_type": "code",
      "metadata": {
        "id": "iraNldI1AYqg",
        "colab": {
          "base_uri": "https://localhost:8080/"
        },
        "outputId": "45ba6c82-08cb-43e7-c6c6-85d207d90fd1"
      },
      "source": [
        "imp_test_2 = SimpleImputer(missing_values=np.nan,strategy='most_frequent' )\n",
        "imp_test_2.fit(X_test[: , 8:])\n",
        "X_test[:, 8:] = imp_test_2.transform(X_test[: , 8:])\n",
        "print(pd.DataFrame(X_test))"
      ],
      "execution_count": null,
      "outputs": [
        {
          "output_type": "stream",
          "text": [
            "       0    1   2             3    4   ...       6        7        8  9          10\n",
            "0    Male  Yes   0      Graduate   No  ...        0  136.205      360  1      Urban\n",
            "1    Male  Yes   0      Graduate   No  ...  1569.77      126  342.489  1      Urban\n",
            "2    Male  Yes   2      Graduate   No  ...     1800      208      360  1      Urban\n",
            "3    Male  Yes   2      Graduate   No  ...     2546      100      360  1      Urban\n",
            "4    Male   No   0  Not Graduate   No  ...        0       78      360  1      Urban\n",
            "..    ...  ...  ..           ...  ...  ...      ...      ...      ... ..        ...\n",
            "362  Male  Yes  3+  Not Graduate  Yes  ...     1777      113      360  1      Urban\n",
            "363  Male  Yes   0      Graduate   No  ...      709      115      360  1      Urban\n",
            "364  Male   No   0      Graduate   No  ...     1993      126      360  1  Semiurban\n",
            "365  Male  Yes   0      Graduate   No  ...     2393      158      360  1      Rural\n",
            "366  Male   No   0      Graduate  Yes  ...        0       98      180  1      Rural\n",
            "\n",
            "[367 rows x 11 columns]\n"
          ],
          "name": "stdout"
        }
      ]
    },
    {
      "cell_type": "markdown",
      "metadata": {
        "id": "9645aJhcFVi0"
      },
      "source": [
        "# Encoding"
      ]
    },
    {
      "cell_type": "code",
      "metadata": {
        "id": "Zjje5NVjNdNj",
        "colab": {
          "base_uri": "https://localhost:8080/"
        },
        "outputId": "f6906888-9202-4301-9f47-52faa04f6fcd"
      },
      "source": [
        "from sklearn.compose import make_column_transformer\n",
        "from sklearn.preprocessing import OneHotEncoder\n",
        "ct = make_column_transformer((OneHotEncoder(), [0,1,2,3,4,9,10]), remainder='passthrough')\n",
        "X_train = ct.fit_transform(X_train)\n",
        "print(pd.DataFrame(X_train))"
      ],
      "execution_count": null,
      "outputs": [
        {
          "output_type": "stream",
          "text": [
            "    0  1  2  3  4  5  6  7  8   ... 12 13 14 15 16      17       18       19      20\n",
            "0    0  1  1  0  0  1  0  0  1  ...  0  1  0  0  1    5849        0  146.443     360\n",
            "1    0  1  0  1  0  1  0  0  1  ...  0  1  1  0  0  5404.8     1508  146.443     360\n",
            "2    0  1  0  1  1  0  0  0  1  ...  0  1  0  1  0    3000  1623.89       66  341.97\n",
            "3    0  1  0  1  1  0  0  0  0  ...  0  1  0  0  1    2583     2358      120     360\n",
            "4    0  1  1  0  1  0  0  0  1  ...  0  1  0  0  1    6000        0      141     360\n",
            "..  .. .. .. .. .. .. .. .. ..  ... .. .. .. .. ..     ...      ...      ...     ...\n",
            "609  1  0  1  0  1  0  0  0  1  ...  0  1  1  0  0    2900        0       71     360\n",
            "610  0  1  0  1  0  0  0  1  1  ...  0  1  1  0  0    4106        0       40     180\n",
            "611  0  1  0  1  0  1  0  0  1  ...  0  1  0  0  1    8072      240      253     360\n",
            "612  0  1  0  1  0  0  1  0  1  ...  0  1  0  0  1    7583        0      187     360\n",
            "613  1  0  1  0  1  0  0  0  1  ...  1  0  0  1  0    4583        0      133     360\n",
            "\n",
            "[614 rows x 21 columns]\n"
          ],
          "name": "stdout"
        }
      ]
    },
    {
      "cell_type": "code",
      "metadata": {
        "id": "Bl_vJWHNRAWn",
        "colab": {
          "base_uri": "https://localhost:8080/"
        },
        "outputId": "5bcc7e77-7dda-4162-e1df-cd29e8af0250"
      },
      "source": [
        "ctt = make_column_transformer(( OneHotEncoder(), [0,1,2,3,4,9,10]), remainder='passthrough')\n",
        "X_test = ctt.fit_transform(X_test)\n",
        "print(pd.DataFrame(X_test))"
      ],
      "execution_count": null,
      "outputs": [
        {
          "output_type": "stream",
          "text": [
            "    0  1  2  3  4  5  6  7   ... 13 14 15 16      17       18       19       20\n",
            "0    0  1  0  1  1  0  0  0  ...  1  0  0  1  4803.1        0  136.205      360\n",
            "1    0  1  0  1  1  0  0  0  ...  1  0  0  1    3076  1569.77      126  342.489\n",
            "2    0  1  0  1  0  0  1  0  ...  1  0  0  1    5000     1800      208      360\n",
            "3    0  1  0  1  0  0  1  0  ...  1  0  0  1    2340     2546      100      360\n",
            "4    0  1  1  0  1  0  0  0  ...  1  0  0  1    3276        0       78      360\n",
            "..  .. .. .. .. .. .. .. ..  ... .. .. .. ..     ...      ...      ...      ...\n",
            "362  0  1  0  1  0  0  0  1  ...  1  0  0  1    4009     1777      113      360\n",
            "363  0  1  0  1  1  0  0  0  ...  1  0  0  1    4158      709      115      360\n",
            "364  0  1  1  0  1  0  0  0  ...  1  0  1  0    3250     1993      126      360\n",
            "365  0  1  0  1  1  0  0  0  ...  1  1  0  0    5000     2393      158      360\n",
            "366  0  1  1  0  1  0  0  0  ...  1  1  0  0    9200        0       98      180\n",
            "\n",
            "[367 rows x 21 columns]\n"
          ],
          "name": "stdout"
        }
      ]
    },
    {
      "cell_type": "code",
      "metadata": {
        "id": "oVn3oEuMWMGD",
        "colab": {
          "base_uri": "https://localhost:8080/"
        },
        "outputId": "af0b3efa-7c1c-461a-a14f-4b0edb249238"
      },
      "source": [
        "from sklearn.preprocessing import LabelEncoder\n",
        "le = LabelEncoder()\n",
        "y_train = le.fit_transform(y_train)\n",
        "print(y_train)"
      ],
      "execution_count": null,
      "outputs": [
        {
          "output_type": "stream",
          "text": [
            "[1 0 1 1 1 1 1 0 1 0 1 1 1 0 1 1 1 0 0 1 0 1 0 0 0 1 1 1 0 1 0 0 0 1 0 1 0\n",
            " 1 1 1 0 1 1 1 1 1 1 1 0 1 1 1 0 0 0 1 1 0 1 1 1 1 0 0 0 0 0 1 1 0 1 1 1 0\n",
            " 1 0 0 0 0 1 1 1 0 0 1 1 1 1 1 1 1 1 1 1 1 0 1 1 1 1 1 1 1 1 1 1 1 0 0 1 1\n",
            " 1 0 1 1 1 1 1 0 1 1 1 1 1 1 1 1 1 0 0 1 1 1 1 1 0 0 1 0 0 0 1 1 1 1 1 1 1\n",
            " 0 1 0 1 0 0 1 1 1 1 1 1 1 0 0 1 1 1 0 1 0 1 1 1 0 1 0 1 1 0 1 0 0 0 1 0 1\n",
            " 1 0 1 1 1 1 0 0 1 1 0 1 1 1 0 1 1 0 1 1 1 1 1 1 0 0 0 1 1 1 1 0 1 0 1 0 1\n",
            " 1 1 1 0 0 1 1 1 1 1 1 1 1 1 0 1 1 1 1 0 1 1 1 0 1 1 1 1 0 0 1 1 0 1 0 0 0\n",
            " 0 1 1 0 1 1 1 1 1 0 1 1 1 1 1 1 1 1 1 1 1 0 1 1 1 0 1 0 1 1 1 1 0 1 0 1 1\n",
            " 1 1 0 0 0 1 1 1 1 0 1 0 0 1 1 1 1 1 0 1 1 1 1 0 1 1 1 1 1 0 1 1 0 1 1 1 1\n",
            " 1 1 1 1 1 0 1 0 0 1 1 1 1 0 1 1 1 1 0 1 0 1 1 1 0 0 1 0 1 1 1 1 0 0 0 1 0\n",
            " 1 1 1 0 1 1 1 1 0 1 1 1 1 1 0 1 1 0 1 1 1 1 1 1 1 1 0 1 1 0 0 0 1 1 0 1 1\n",
            " 1 0 0 0 1 0 1 0 1 0 0 1 1 1 0 1 0 1 1 0 1 1 1 1 0 1 1 1 1 1 1 0 1 1 1 1 1\n",
            " 1 1 1 0 0 0 0 1 0 1 1 1 1 0 1 0 1 1 1 1 0 1 0 1 1 0 1 0 1 1 1 1 1 0 1 0 1\n",
            " 1 1 1 1 1 0 0 1 0 1 1 1 1 0 1 1 1 1 0 1 1 1 0 1 1 1 0 1 1 0 1 1 0 0 1 1 0\n",
            " 0 0 1 1 1 1 0 1 1 1 1 1 1 1 0 0 1 1 1 1 0 1 1 0 1 1 1 1 0 1 0 1 0 1 1 0 0\n",
            " 1 1 1 1 1 1 1 1 1 0 1 1 0 0 0 1 0 1 0 0 1 0 1 1 1 1 0 1 0 0 0 1 1 1 0 1 0\n",
            " 1 1 1 1 0 0 1 1 0 1 1 1 1 0 1 1 1 1 1 1 1 0]\n"
          ],
          "name": "stdout"
        }
      ]
    },
    {
      "cell_type": "markdown",
      "metadata": {
        "id": "cwUomA-lRP17"
      },
      "source": [
        "# Feature scaling"
      ]
    },
    {
      "cell_type": "code",
      "metadata": {
        "id": "iY1-xII7RTAK",
        "colab": {
          "base_uri": "https://localhost:8080/"
        },
        "outputId": "84dc50a0-f0e5-45a3-e1bc-86c5ea05b452"
      },
      "source": [
        "from sklearn.preprocessing import StandardScaler\n",
        "sc= StandardScaler()\n",
        "X_train[: , 17:] = sc.fit_transform(X_train[: , 17:])\n",
        "print(pd.DataFrame(X_train))\n",
        "X_test[: , 17:] = sc.transform(X_test[: , 17:])\n",
        "print(pd.DataFrame(X_test))\n"
      ],
      "execution_count": null,
      "outputs": [
        {
          "output_type": "stream",
          "text": [
            "    0  1  2  3  4  5   ... 15 16         17           18           19           20\n",
            "0    0  1  1  0  0  1  ...  0  1  0.0727726    -0.555531  6.76984e-16     0.280336\n",
            "1    0  1  0  1  0  1  ...  0  0          0    -0.039646  6.76984e-16     0.280336\n",
            "2    0  1  0  1  1  0  ...  1  0  -0.393972 -7.77843e-17     -0.95805 -8.83815e-16\n",
            "3    0  1  0  1  1  0  ...  0  1  -0.462289     0.251138     -0.31493     0.280336\n",
            "4    0  1  1  0  1  0  ...  0  1  0.0975106    -0.555531   -0.0648278     0.280336\n",
            "..  .. .. .. .. .. ..  ... .. ..        ...          ...          ...          ...\n",
            "609  1  0  1  0  1  0  ...  0  0  -0.410355    -0.555531    -0.898501     0.280336\n",
            "610  0  1  0  1  0  0  ...  0  0  -0.212779    -0.555531      -1.2677     -2.51835\n",
            "611  0  1  0  1  0  1  ...  0  1   0.436962    -0.473427      1.26905     0.280336\n",
            "612  0  1  0  1  0  0  ...  0  1    0.35685    -0.555531     0.483015     0.280336\n",
            "613  1  0  1  0  1  0  ...  1  0  -0.134633    -0.555531    -0.160105     0.280336\n",
            "\n",
            "[614 rows x 21 columns]\n",
            "    0  1  2  3  4  5  6   ... 14 15 16         17         18        19          20\n",
            "0    0  1  0  1  1  0  0  ...  0  0  1 -0.0985746  -0.555531 -0.121935    0.280336\n",
            "1    0  1  0  1  1  0  0  ...  0  0  1  -0.381522 -0.0185154 -0.243472  0.00806859\n",
            "2    0  1  0  1  0  0  1  ...  0  0  1 -0.0663171  0.0602468  0.733117    0.280336\n",
            "3    0  1  0  1  0  0  1  ...  0  0  1  -0.502099   0.315453 -0.553122    0.280336\n",
            "4    0  1  1  0  1  0  0  ...  0  0  1  -0.348756  -0.555531 -0.815134    0.280336\n",
            "..  .. .. .. .. .. .. ..  ... .. .. ..        ...        ...       ...         ...\n",
            "362  0  1  0  1  0  0  0  ...  0  0  1   -0.22867  0.0523786 -0.398297    0.280336\n",
            "363  0  1  0  1  1  0  0  ...  0  0  1   -0.20426  -0.312983 -0.374478    0.280336\n",
            "364  0  1  1  0  1  0  0  ...  0  1  0  -0.353015   0.126272 -0.243472    0.280336\n",
            "365  0  1  0  1  1  0  0  ...  1  0  0 -0.0663171   0.263112  0.137636    0.280336\n",
            "366  0  1  1  0  1  0  0  ...  1  0  0   0.621759  -0.555531 -0.576942    -2.51835\n",
            "\n",
            "[367 rows x 21 columns]\n"
          ],
          "name": "stdout"
        }
      ]
    },
    {
      "cell_type": "markdown",
      "metadata": {
        "id": "hpy0xwFaYGMG"
      },
      "source": [
        "#Traning"
      ]
    },
    {
      "cell_type": "code",
      "metadata": {
        "id": "qgymPrpDYJBI",
        "colab": {
          "base_uri": "https://localhost:8080/",
          "height": 118
        },
        "outputId": "1b1e8d0c-aca1-4b38-bc65-a9967bac8104"
      },
      "source": [
        "from sklearn.svm import SVC\n",
        "classifier = SVC(kernel = 'linear', random_state = 0)\n",
        "classifier.fit(X_train, y_train)"
      ],
      "execution_count": null,
      "outputs": [
        {
          "output_type": "execute_result",
          "data": {
            "text/plain": [
              "DecisionTreeClassifier(ccp_alpha=0.0, class_weight=None, criterion='entropy',\n",
              "                       max_depth=None, max_features=None, max_leaf_nodes=None,\n",
              "                       min_impurity_decrease=0.0, min_impurity_split=None,\n",
              "                       min_samples_leaf=1, min_samples_split=2,\n",
              "                       min_weight_fraction_leaf=0.0, presort='deprecated',\n",
              "                       random_state=0, splitter='best')"
            ]
          },
          "metadata": {
            "tags": []
          },
          "execution_count": 88
        }
      ]
    },
    {
      "cell_type": "code",
      "metadata": {
        "id": "E7AfSHHBYyMD",
        "colab": {
          "base_uri": "https://localhost:8080/",
          "height": 554
        },
        "outputId": "b780722e-3f52-4b63-de46-1faf0cc19d31"
      },
      "source": [
        "y_predb = classifier.predict(X_test)\n",
        "\n",
        "print(y_predb)\n",
        "y_pred = []\n",
        "\n",
        "print(y_predb.size)\n",
        "for i in range(0,len(y_predb)):\n",
        "  if y_predb[i] == 1:\n",
        "    y_pred.append('Y')\n",
        "  else:\n",
        "    y_pred.append('N')\n",
        "\n",
        "y_preda = np.array(y_pred)\n",
        "print(y_preda)\n",
        "\n",
        "\n"
      ],
      "execution_count": null,
      "outputs": [
        {
          "output_type": "stream",
          "text": [
            "[0 1 1 1 1 1 1 0 1 1 0 1 1 1 1 1 0 1 1 1 1 0 1 1 1 1 1 1 1 1 1 1 0 1 1 0 1\n",
            " 1 1 1 1 1 1 0 1 0 1 1 1 0 1 1 0 1 0 1 1 1 0 1 1 1 0 0 1 1 0 1 1 0 1 1 1 0\n",
            " 1 1 1 1 1 1 1 1 0 0 1 1 1 1 1 0 1 1 1 1 0 1 1 1 1 1 1 0 1 1 1 1 0 1 1 1 0\n",
            " 1 1 1 1 0 0 0 0 0 0 1 1 0 0 1 0 1 0 1 1 1 1 1 0 1 1 0 1 1 0 1 0 1 1 0 1 0\n",
            " 1 0 1 1 0 0 0 0 0 0 0 0 0 0 1 1 1 1 0 1 0 1 1 1 0 0 0 1 1 1 0 1 1 1 1 0 1\n",
            " 1 0 1 0 0 1 0 0 0 1 1 0 1 0 1 1 1 1 1 1 1 1 1 1 1 0 0 1 0 1 1 0 0 1 0 1 1\n",
            " 1 0 0 1 1 1 1 0 1 1 1 0 1 0 0 1 1 0 1 0 1 0 1 0 1 1 0 1 0 1 1 1 1 0 1 1 1\n",
            " 1 0 1 1 1 1 1 0 1 0 1 1 0 0 1 0 1 1 1 0 0 1 1 1 0 1 1 1 1 0 1 1 1 1 0 1 1\n",
            " 1 0 1 1 1 0 0 0 1 0 1 1 1 1 0 0 1 0 0 0 1 0 1 1 0 0 1 0 1 1 1 1 1 1 1 1 0\n",
            " 1 1 1 1 1 1 0 1 0 0 0 1 1 0 1 0 1 1 0 1 1 0 0 1 1 0 0 1 1 1 1 1 1 1]\n",
            "367\n",
            "['N' 'Y' 'Y' 'Y' 'Y' 'Y' 'Y' 'N' 'Y' 'Y' 'N' 'Y' 'Y' 'Y' 'Y' 'Y' 'N' 'Y'\n",
            " 'Y' 'Y' 'Y' 'N' 'Y' 'Y' 'Y' 'Y' 'Y' 'Y' 'Y' 'Y' 'Y' 'Y' 'N' 'Y' 'Y' 'N'\n",
            " 'Y' 'Y' 'Y' 'Y' 'Y' 'Y' 'Y' 'N' 'Y' 'N' 'Y' 'Y' 'Y' 'N' 'Y' 'Y' 'N' 'Y'\n",
            " 'N' 'Y' 'Y' 'Y' 'N' 'Y' 'Y' 'Y' 'N' 'N' 'Y' 'Y' 'N' 'Y' 'Y' 'N' 'Y' 'Y'\n",
            " 'Y' 'N' 'Y' 'Y' 'Y' 'Y' 'Y' 'Y' 'Y' 'Y' 'N' 'N' 'Y' 'Y' 'Y' 'Y' 'Y' 'N'\n",
            " 'Y' 'Y' 'Y' 'Y' 'N' 'Y' 'Y' 'Y' 'Y' 'Y' 'Y' 'N' 'Y' 'Y' 'Y' 'Y' 'N' 'Y'\n",
            " 'Y' 'Y' 'N' 'Y' 'Y' 'Y' 'Y' 'N' 'N' 'N' 'N' 'N' 'N' 'Y' 'Y' 'N' 'N' 'Y'\n",
            " 'N' 'Y' 'N' 'Y' 'Y' 'Y' 'Y' 'Y' 'N' 'Y' 'Y' 'N' 'Y' 'Y' 'N' 'Y' 'N' 'Y'\n",
            " 'Y' 'N' 'Y' 'N' 'Y' 'N' 'Y' 'Y' 'N' 'N' 'N' 'N' 'N' 'N' 'N' 'N' 'N' 'N'\n",
            " 'Y' 'Y' 'Y' 'Y' 'N' 'Y' 'N' 'Y' 'Y' 'Y' 'N' 'N' 'N' 'Y' 'Y' 'Y' 'N' 'Y'\n",
            " 'Y' 'Y' 'Y' 'N' 'Y' 'Y' 'N' 'Y' 'N' 'N' 'Y' 'N' 'N' 'N' 'Y' 'Y' 'N' 'Y'\n",
            " 'N' 'Y' 'Y' 'Y' 'Y' 'Y' 'Y' 'Y' 'Y' 'Y' 'Y' 'Y' 'N' 'N' 'Y' 'N' 'Y' 'Y'\n",
            " 'N' 'N' 'Y' 'N' 'Y' 'Y' 'Y' 'N' 'N' 'Y' 'Y' 'Y' 'Y' 'N' 'Y' 'Y' 'Y' 'N'\n",
            " 'Y' 'N' 'N' 'Y' 'Y' 'N' 'Y' 'N' 'Y' 'N' 'Y' 'N' 'Y' 'Y' 'N' 'Y' 'N' 'Y'\n",
            " 'Y' 'Y' 'Y' 'N' 'Y' 'Y' 'Y' 'Y' 'N' 'Y' 'Y' 'Y' 'Y' 'Y' 'N' 'Y' 'N' 'Y'\n",
            " 'Y' 'N' 'N' 'Y' 'N' 'Y' 'Y' 'Y' 'N' 'N' 'Y' 'Y' 'Y' 'N' 'Y' 'Y' 'Y' 'Y'\n",
            " 'N' 'Y' 'Y' 'Y' 'Y' 'N' 'Y' 'Y' 'Y' 'N' 'Y' 'Y' 'Y' 'N' 'N' 'N' 'Y' 'N'\n",
            " 'Y' 'Y' 'Y' 'Y' 'N' 'N' 'Y' 'N' 'N' 'N' 'Y' 'N' 'Y' 'Y' 'N' 'N' 'Y' 'N'\n",
            " 'Y' 'Y' 'Y' 'Y' 'Y' 'Y' 'Y' 'Y' 'N' 'Y' 'Y' 'Y' 'Y' 'Y' 'Y' 'N' 'Y' 'N'\n",
            " 'N' 'N' 'Y' 'Y' 'N' 'Y' 'N' 'Y' 'Y' 'N' 'Y' 'Y' 'N' 'N' 'Y' 'Y' 'N' 'N'\n",
            " 'Y' 'Y' 'Y' 'Y' 'Y' 'Y' 'Y']\n"
          ],
          "name": "stdout"
        }
      ]
    },
    {
      "cell_type": "code",
      "metadata": {
        "id": "xPpFSLvheVtN"
      },
      "source": [
        "solution = np.concatenate((id.reshape(len(id),1), y_preda.reshape(len(y_preda),1)),1)\n",
        "sol = pd.DataFrame(solution)\n",
        "sol.to_csv('/content/sample_submission_49d68Cx2DTC.csv', index = False)\n"
      ],
      "execution_count": null,
      "outputs": []
    }
  ]
}